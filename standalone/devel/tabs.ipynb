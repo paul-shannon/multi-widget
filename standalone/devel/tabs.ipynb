{
 "cells": [
  {
   "cell_type": "code",
   "execution_count": 1,
   "metadata": {},
   "outputs": [
    {
     "data": {
      "application/javascript": [
       "require.config({\n",
       "   paths: {cytoscape: 'http://localhost:8099/js/cytoscape-2.7.10'}\n",
       "   })"
      ],
      "text/plain": [
       "<IPython.core.display.Javascript object>"
      ]
     },
     "metadata": {},
     "output_type": "display_data"
    }
   ],
   "source": [
    "%%javascript\n",
    "require.config({\n",
    "   paths: {cytoscape: 'http://localhost:8099/js/cytoscape-2.7.10'}\n",
    "   })"
   ]
  },
  {
   "cell_type": "code",
   "execution_count": 2,
   "metadata": {
    "collapsed": true
   },
   "outputs": [],
   "source": [
    "import ipywidgets as widgets\n",
    "import time\n",
    "from IPython.display import display, HTML\n",
    "from traitlets import Int, Unicode, observe"
   ]
  },
  {
   "cell_type": "code",
   "execution_count": 3,
   "metadata": {
    "collapsed": true
   },
   "outputs": [],
   "source": [
    "class TabsWidget(widgets.DOMWidget):\n",
    "    \n",
    "    _view_name = Unicode('TabsView').tag(sync=True)\n",
    "    _view_module = Unicode('tabsDemo').tag(sync=True)\n",
    "    frameHeight = Int(300).tag(sync=True)\n",
    "\n",
    "    def setHeight(self, height):\n",
    "       print(\"setHeight(%d) \"% height)\n",
    "       self.frameHeight = height\n",
    "    "
   ]
  },
  {
   "cell_type": "code",
   "execution_count": 4,
   "metadata": {},
   "outputs": [
    {
     "data": {
      "text/html": [
       "\n",
       "<style>\n",
       "    div#notebook-container    { width: 97%; }\n",
       "    div#menubar-container     { width: 65%; }\n",
       "    div#maintoolbar-container { width: 99%; }\n",
       "</style>\n"
      ],
      "text/plain": [
       "<IPython.core.display.HTML object>"
      ]
     },
     "metadata": {},
     "output_type": "display_data"
    }
   ],
   "source": [
    "display(HTML(data=\"\"\"\n",
    "<style>\n",
    "    div#notebook-container    { width: 97%; }\n",
    "    div#menubar-container     { width: 65%; }\n",
    "    div#maintoolbar-container { width: 99%; }\n",
    "</style>\n",
    "\"\"\"))"
   ]
  },
  {
   "cell_type": "code",
   "execution_count": 5,
   "metadata": {},
   "outputs": [
    {
     "data": {
      "application/javascript": [
       "\"use strict\";\n",
       "require.undef('tabsDemo')\n",
       "\n",
       "define('tabsDemo', [\"jupyter-js-widgets\"], function(widgets) {\n",
       "    \n",
       "    var TabsView = widgets.DOMWidgetView.extend({\n",
       "\n",
       "        initialize: function() {\n",
       "           this.options = {}\n",
       "           console.log(\"constructing TabsView\");\n",
       "           this.frameHeight = \"800px\";\n",
       "           },\n",
       "\n",
       "        resizeHandler: function(){\n",
       "           console.log(\"TabsView resizeHandler\")            \n",
       "           },\n",
       "\n",
       "        createMasterTabsDiv: function(){\n",
       "           var masterTabsDiv = $(\"<div id='masterTabsDiv' style='border:1px solid gray; height: 400px; width: 97%'></div>\");\n",
       "           var list = $(\"<ul/>\"); // .appendTo(masterTabsDiv);\n",
       "           list.append(\"<li><a href='#tab-1'>one</a></li>\");\n",
       "           list.append(\"<li><a href='#tab-2'>two</a></li>\");\n",
       "           list.append(\"<li><a href='#tab-3'>three</a></li>\");\n",
       "           masterTabsDiv.append(list);\n",
       "           var tab1 = $(\"<div id='tab-1'>contents 1</div>\");\n",
       "           var tab2 = $(\"<div id='tab-2'>contents 2</div>\");\n",
       "           var tab3 = $(\"<div id='tab-3'>contents 3</div>\");\n",
       "           masterTabsDiv.append(tab1);\n",
       "           masterTabsDiv.append(tab2);\n",
       "           masterTabsDiv.append(tab3);\n",
       "           return(masterTabsDiv);\n",
       "           },\n",
       "         \n",
       "        render: function() { \n",
       "            console.log(\"entering render\");\n",
       "            this.masterTabsDiv = this.createMasterTabsDiv();\n",
       "            this.$el.append(this.masterTabsDiv);\n",
       "            this.listenTo(this.model, 'change:frameHeight', this.frameDimensionsChanged, this);\n",
       "            setTimeout(function(){\n",
       "               console.log(\"about to call tabs()\");\n",
       "               $(\"#masterTabsDiv\").tabs();\n",
       "               }, 0);\n",
       "            },\n",
       "\n",
       "           \n",
       "        frameDimensionsChanged: function(){\n",
       "           console.log(\"frameDimensionsChanged\");\n",
       "           var oldHeight = $(\"#mainDiv\").height()\n",
       "           var oldWidth = $(\"#mainDiv\").width()\n",
       "           var newHeight = this.model.get(\"frameHeight\");\n",
       "           var msg = \"<center>tabs demo, height: \" + oldHeight + \" -> \" + newHeight + \"</center>\";\n",
       "           $(\"#mainDiv\").html(msg);\n",
       "           $(\"#masterTabsDiv\").height(newHeight);\n",
       "        }, \n",
       "        \n",
       "\n",
       "    });\n",
       "    return {\n",
       "        TabsView: TabsView\n",
       "    };\n",
       "});"
      ],
      "text/plain": [
       "<IPython.core.display.Javascript object>"
      ]
     },
     "metadata": {},
     "output_type": "display_data"
    }
   ],
   "source": [
    "%%javascript\n",
    "\"use strict\";\n",
    "require.undef('tabsDemo')\n",
    "\n",
    "define('tabsDemo', [\"jupyter-js-widgets\"], function(widgets) {\n",
    "    \n",
    "    var TabsView = widgets.DOMWidgetView.extend({\n",
    "\n",
    "        initialize: function() {\n",
    "           this.options = {}\n",
    "           console.log(\"constructing TabsView\");\n",
    "           this.frameHeight = \"800px\";\n",
    "           },\n",
    "\n",
    "        resizeHandler: function(){\n",
    "           console.log(\"TabsView resizeHandler\")            \n",
    "           },\n",
    "\n",
    "        createMasterTabsDiv: function(){\n",
    "           var masterTabsDiv = $(\"<div id='masterTabsDiv' style='border:1px solid gray; height: 400px; width: 97%'></div>\");\n",
    "           var list = $(\"<ul/>\"); // .appendTo(masterTabsDiv);\n",
    "           list.append(\"<li><a href='#tab-1'>one</a></li>\");\n",
    "           list.append(\"<li><a href='#tab-2'>two</a></li>\");\n",
    "           list.append(\"<li><a href='#tab-3'>three</a></li>\");\n",
    "           masterTabsDiv.append(list);\n",
    "           var tab1 = $(\"<div id='tab-1'>contents 1</div>\");\n",
    "           var tab2 = $(\"<div id='tab-2'>contents 2</div>\");\n",
    "           var tab3 = $(\"<div id='tab-3'>contents 3</div>\");\n",
    "           masterTabsDiv.append(tab1);\n",
    "           masterTabsDiv.append(tab2);\n",
    "           masterTabsDiv.append(tab3);\n",
    "           return(masterTabsDiv);\n",
    "           },\n",
    "         \n",
    "        render: function() { \n",
    "            console.log(\"entering render\");\n",
    "            this.masterTabsDiv = this.createMasterTabsDiv();\n",
    "            this.$el.append(this.masterTabsDiv);\n",
    "            this.listenTo(this.model, 'change:frameHeight', this.frameDimensionsChanged, this);\n",
    "            setTimeout(function(){\n",
    "               console.log(\"about to call tabs()\");\n",
    "               $(\"#masterTabsDiv\").tabs();\n",
    "               }, 0);\n",
    "            },\n",
    "\n",
    "           \n",
    "        frameDimensionsChanged: function(){\n",
    "           console.log(\"frameDimensionsChanged\");\n",
    "           var oldHeight = $(\"#mainDiv\").height()\n",
    "           var oldWidth = $(\"#mainDiv\").width()\n",
    "           var newHeight = this.model.get(\"frameHeight\");\n",
    "           var msg = \"<center>tabs demo, height: \" + oldHeight + \" -> \" + newHeight + \"</center>\";\n",
    "           $(\"#mainDiv\").html(msg);\n",
    "           $(\"#masterTabsDiv\").height(newHeight);\n",
    "        }, \n",
    "        \n",
    "\n",
    "    });\n",
    "    return {\n",
    "        TabsView: TabsView\n",
    "    };\n",
    "});"
   ]
  },
  {
   "cell_type": "code",
   "execution_count": 6,
   "metadata": {},
   "outputs": [
    {
     "data": {
      "application/vnd.jupyter.widget-view+json": {
       "model_id": "23639801f4864fe3bb5ccfe01199404b"
      }
     },
     "metadata": {},
     "output_type": "display_data"
    }
   ],
   "source": [
    "app = TabsWidget()\n",
    "display(app)"
   ]
  },
  {
   "cell_type": "code",
   "execution_count": 7,
   "metadata": {},
   "outputs": [
    {
     "name": "stdout",
     "output_type": "stream",
     "text": [
      "setHeight(500) \n"
     ]
    }
   ],
   "source": [
    "app.setHeight(500)"
   ]
  },
  {
   "cell_type": "code",
   "execution_count": null,
   "metadata": {
    "collapsed": true
   },
   "outputs": [],
   "source": []
  }
 ],
 "metadata": {
  "anaconda-cloud": {},
  "kernelspec": {
   "display_name": "Python [default]",
   "language": "python",
   "name": "python3"
  },
  "language_info": {
   "codemirror_mode": {
    "name": "ipython",
    "version": 3
   },
   "file_extension": ".py",
   "mimetype": "text/x-python",
   "name": "python",
   "nbconvert_exporter": "python",
   "pygments_lexer": "ipython3",
   "version": "3.5.2"
  },
  "widgets": {
   "state": {
    "773dd6efde564d6f86a2c1df3b1698e6": {
     "model_module": "jupyter-js-widgets",
     "model_module_version": "*",
     "model_name": "DOMWidgetModel",
     "state": {
      "_dom_classes": [],
      "_model_module": "jupyter-js-widgets",
      "_model_module_version": "*",
      "_model_name": "DOMWidgetModel",
      "_view_module": "cyjs",
      "_view_module_version": "*",
      "_view_name": "CyjsView",
      "frameHeight": 300,
      "frameWidth": 400,
      "msgFromBrowser": "{}",
      "msgFromKernel": "{}",
      "msg_throttle": 1
     }
    },
    "8f8d68c55ed749e1b47682ba9dfc7a48": {
     "model_module": "jupyter-js-widgets",
     "model_module_version": "*",
     "model_name": "DOMWidgetModel",
     "state": {
      "_dom_classes": [],
      "_model_module": "jupyter-js-widgets",
      "_model_module_version": "*",
      "_model_name": "DOMWidgetModel",
      "_view_module": "cyjs",
      "_view_module_version": "*",
      "_view_name": "CyjsView",
      "frameHeight": 300,
      "frameWidth": 400,
      "msgFromBrowser": "{}",
      "msgFromKernel": "{}",
      "msg_throttle": 1
     }
    }
   },
   "version": "2.0.10"
  }
 },
 "nbformat": 4,
 "nbformat_minor": 1
}
