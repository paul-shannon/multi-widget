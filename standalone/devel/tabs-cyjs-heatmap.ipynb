{
 "cells": [
  {
   "cell_type": "code",
   "execution_count": 85,
   "metadata": {},
   "outputs": [
    {
     "data": {
      "application/javascript": [
       "require.config({\n",
       "   'shim': {'bootstrap': {'deps' :['jquery']},\n",
       "            'igv': {'deps' :['jquery', 'jquery-ui', 'bootstrap']}\n",
       "           },\n",
       "    \n",
       "   paths: {cytoscape  :  'http://cytoscape.github.io/cytoscape.js/api/cytoscape.js-latest/cytoscape.min.js',\n",
       "           //cytoscape  : 'http://localhost:8099/js/cytoscape-2.7.10',\n",
       "          'jquery'    :   'http://code.jquery.com/jquery-1.12.4.min',\n",
       "          'jquery-ui' :   'http://code.jquery.com/ui/1.12.1/jquery-ui.min',\n",
       "          'bootstrap' :   'http://maxcdn.bootstrapcdn.com/bootstrap/3.3.7/js/bootstrap.min',\n",
       "          'igv'       :   'http://igv.org/web/release/1.0.6/igv-1.0.6'\n",
       "          }\n",
       "   })"
      ],
      "text/plain": [
       "<IPython.core.display.Javascript object>"
      ]
     },
     "metadata": {},
     "output_type": "display_data"
    }
   ],
   "source": [
    "%%javascript\n",
    "require.config({\n",
    "   'shim': {'bootstrap': {'deps' :['jquery']},\n",
    "            'igv': {'deps' :['jquery', 'jquery-ui', 'bootstrap']}\n",
    "           },\n",
    "    \n",
    "   paths: {cytoscape  :  'http://cytoscape.github.io/cytoscape.js/api/cytoscape.js-latest/cytoscape.min.js',\n",
    "           //cytoscape  : 'http://localhost:8099/js/cytoscape-2.7.10',\n",
    "          'jquery'    :   'http://code.jquery.com/jquery-1.12.4.min',\n",
    "          'jquery-ui' :   'http://code.jquery.com/ui/1.12.1/jquery-ui.min',\n",
    "          'bootstrap' :   'http://maxcdn.bootstrapcdn.com/bootstrap/3.3.7/js/bootstrap.min',\n",
    "          'igv'       :   'http://igv.org/web/release/1.0.6/igv-1.0.6'\n",
    "          }\n",
    "   })"
   ]
  },
  {
   "cell_type": "code",
   "execution_count": 86,
   "metadata": {},
   "outputs": [],
   "source": [
    "# ensure libraries are available\n",
    "import requests\n",
    "#assert(requests.get('http://localhost:8099/js/cytoscape-2.7.10.js').status_code == 200)\n",
    "#assert(requests.get('https://igv.org/web/beta/igv-beta.min.js').status_code == 200)"
   ]
  },
  {
   "cell_type": "code",
   "execution_count": 87,
   "metadata": {
    "collapsed": true
   },
   "outputs": [],
   "source": [
    "import ipywidgets as widgets\n",
    "import time\n",
    "from IPython.display import display, HTML\n",
    "from traitlets import Int, Unicode, observe"
   ]
  },
  {
   "cell_type": "code",
   "execution_count": 88,
   "metadata": {
    "collapsed": true
   },
   "outputs": [],
   "source": [
    "class TabsWidget(widgets.DOMWidget):\n",
    "    \n",
    "    _view_name = Unicode('TabsView').tag(sync=True)\n",
    "    _view_module = Unicode('tabsDemo').tag(sync=True)\n",
    "    frameHeight = Int(300).tag(sync=True)\n",
    "\n",
    "    def setHeight(self, height):\n",
    "       print(\"setHeight(%d) \"% height)\n",
    "       self.frameHeight = height\n",
    "    "
   ]
  },
  {
   "cell_type": "code",
   "execution_count": 89,
   "metadata": {},
   "outputs": [
    {
     "data": {
      "text/html": [
       "\n",
       "<style>\n",
       "    div#notebook-container    { width: 97%; }\n",
       "    div#menubar-container     { width: 65%; }\n",
       "    div#maintoolbar-container { width: 99%; }\n",
       "</style>\n"
      ],
      "text/plain": [
       "<IPython.core.display.HTML object>"
      ]
     },
     "metadata": {},
     "output_type": "display_data"
    }
   ],
   "source": [
    "display(HTML(data=\"\"\"\n",
    "<style>\n",
    "    div#notebook-container    { width: 97%; }\n",
    "    div#menubar-container     { width: 65%; }\n",
    "    div#maintoolbar-container { width: 99%; }\n",
    "</style>\n",
    "\"\"\"))"
   ]
  },
  {
   "cell_type": "code",
   "execution_count": 90,
   "metadata": {},
   "outputs": [
    {
     "data": {
      "application/javascript": [
       "\"use strict\";\n",
       "\n",
       "require.undef('tabsDemo')\n",
       "\n",
       "define('tabsDemo', [\"jupyter-js-widgets\", \"cytoscape\", \"jquery\", \"igv\"], \n",
       "       function(widgets, cytoscape, $, igv) {\n",
       "    \n",
       "    var TabsView = widgets.DOMWidgetView.extend({\n",
       "\n",
       "        initialize: function() {\n",
       "           this.options = {}\n",
       "           console.log(\"constructing TabsView\");\n",
       "           this.frameHeight = \"800px\";\n",
       "           },\n",
       "\n",
       "        resizeHandler: function(){\n",
       "           console.log(\"TabsView resizeHandler\")            \n",
       "           },\n",
       "\n",
       "       createCytoscapeDiv: function(){\n",
       "          var cyDiv = $(\"<div id='cyDiv' style='border:1px solid red; height:200px;'></div>\");\n",
       "          cyDiv.cytoscape({\n",
       "            ready: function(){\n",
       "               x = this;\n",
       "               console.log(\"cyJS ready\");\n",
       "               },\n",
       "            elements: {\n",
       "              nodes: [\n",
       "                {data: {id: 'a', name: 'Node A', type: 'big' }},\n",
       "                {data: {id: 'b', name: 'Node B', type: 'little'}},\n",
       "                ]}\n",
       "            });\n",
       "          return(cyDiv);\n",
       "          }, // createCytoscapeDiv\n",
       "        \n",
       "        createMasterTabsDiv: function(){\n",
       "           var masterTabsDiv = $(\"<div id='masterTabsDiv' style='border:1px solid gray; height: 400px; width: 97%'></div>\");\n",
       "           var list = $(\"<ul/>\"); // .appendTo(masterTabsDiv);\n",
       "           list.append(\"<li><a href='#tab-1'>cytoscape</a></li>\");\n",
       "           list.append(\"<li><a href='#tab-2'>igv</a></li>\");\n",
       "           list.append(\"<li><a href='#tab-3'>three</a></li>\");\n",
       "           masterTabsDiv.append(list);\n",
       "           var tab1 = $(\"<div id='tab-1'>contents 1</div>\");\n",
       "           tab1.append(\"<div id='cyDiv' style='border:1px solid red; height:200px;'>cyDiv coming soon</div>\"); \n",
       "           //var tab1 = this.createCytoscapeDiv();\n",
       "           var tab2 = $(\"<div id='tab-2'></div>\");\n",
       "           tab2.append(\"<div id='igvDiv' style='border:1px solid blue; height:500px;'></div>\");\n",
       "           var tab3 = $(\"<div id='tab-3'>contents 3</div>\");\n",
       "           masterTabsDiv.append(tab1);\n",
       "           masterTabsDiv.append(tab2);\n",
       "           masterTabsDiv.append(tab3);\n",
       "           return(masterTabsDiv);\n",
       "           },\n",
       "         \n",
       "\n",
       "        render: function() { \n",
       "            console.log(\"entering render\");\n",
       "            this.masterTabsDiv = this.createMasterTabsDiv();\n",
       "            this.$el.append(this.masterTabsDiv);\n",
       "            this.listenTo(this.model, 'change:frameHeight', this.frameDimensionsChanged, this);\n",
       "            //var browser = None;\n",
       "            var igvOptions = {\n",
       "                 palette: [\"#00A0B0\", \"#6A4A3C\", \"#CC333F\", \"#EB6841\"],\n",
       "                 locus: \"7:55,085,725 - 55,276,031\",\n",
       "                 reference: {id: \"hg19\",\n",
       "                   fastaURL: \"http://igv.broadinstitute.org/genomes/seq/1kg_v37/human_g1k_v37_decoy.fasta\",\n",
       "                   cytobandURL: \"http://igv.broadinstitute.org/genomes/seq/b37/b37_cytoband.txt\"\n",
       "                   },\n",
       "                 trackDefaults: {\n",
       "                    bam: {coverageThreshold: 0.2,\n",
       "                          coverageQualityWeight: true\n",
       "                         }\n",
       "                    },\n",
       "               tracks: [\n",
       "                {name: \"Genes\",\n",
       "                    url: \"http://igv.broadinstitute.org/annotations/hg19/genes/gencode.v18.collapsed.bed\",\n",
       "                    index: \"http://igv.broadinstitute.org/annotations/hg19/genes/gencode.v18.collapsed.bed.idx\",\n",
       "                    displayMode: \"EXPANDED\"\n",
       "                    }\n",
       "                 ]\n",
       "               }; // igvOptions\n",
       " \n",
       "            setTimeout(function(){\n",
       "               console.log(\"about to call tabs()\");\n",
       "               $(\"#masterTabsDiv\").tabs();\n",
       "               $(\"#cyDiv\").cytoscape({elements:{nodes:[{data:{id:'a'}}], edges:[{data:{source:'a', target:'a'}}]}});\n",
       "               window.browser = igv.createBrowser($(\"#igvDiv\"), igvOptions);\n",
       "               }, 0);\n",
       "            },\n",
       "\n",
       "           \n",
       "        frameDimensionsChanged: function(){\n",
       "           console.log(\"frameDimensionsChanged\");\n",
       "           var oldHeight = $(\"#mainDiv\").height()\n",
       "           var oldWidth = $(\"#mainDiv\").width()\n",
       "           var newHeight = this.model.get(\"frameHeight\");\n",
       "           var msg = \"<center>tabs demo, height: \" + oldHeight + \" -> \" + newHeight + \"</center>\";\n",
       "           $(\"#mainDiv\").html(msg);\n",
       "           $(\"#masterTabsDiv\").height(newHeight);\n",
       "        }, \n",
       "        \n",
       "\n",
       "    });\n",
       "    return {\n",
       "        TabsView: TabsView\n",
       "    };\n",
       "});"
      ],
      "text/plain": [
       "<IPython.core.display.Javascript object>"
      ]
     },
     "metadata": {},
     "output_type": "display_data"
    }
   ],
   "source": [
    "%%javascript\n",
    "\"use strict\";\n",
    "\n",
    "require.undef('tabsDemo')\n",
    "\n",
    "define('tabsDemo', [\"jupyter-js-widgets\", \"cytoscape\", \"jquery\", \"igv\"], \n",
    "       function(widgets, cytoscape, $, igv) {\n",
    "    \n",
    "    var TabsView = widgets.DOMWidgetView.extend({\n",
    "\n",
    "        initialize: function() {\n",
    "           this.options = {}\n",
    "           console.log(\"constructing TabsView\");\n",
    "           this.frameHeight = \"800px\";\n",
    "           },\n",
    "\n",
    "        resizeHandler: function(){\n",
    "           console.log(\"TabsView resizeHandler\")            \n",
    "           },\n",
    "\n",
    "       createCytoscapeDiv: function(){\n",
    "          var cyDiv = $(\"<div id='cyDiv' style='border:1px solid red; height:200px;'></div>\");\n",
    "          cyDiv.cytoscape({\n",
    "            ready: function(){\n",
    "               x = this;\n",
    "               console.log(\"cyJS ready\");\n",
    "               },\n",
    "            elements: {\n",
    "              nodes: [\n",
    "                {data: {id: 'a', name: 'Node A', type: 'big' }},\n",
    "                {data: {id: 'b', name: 'Node B', type: 'little'}},\n",
    "                ]}\n",
    "            });\n",
    "          return(cyDiv);\n",
    "          }, // createCytoscapeDiv\n",
    "        \n",
    "        createMasterTabsDiv: function(){\n",
    "           var masterTabsDiv = $(\"<div id='masterTabsDiv' style='border:1px solid gray; height: 400px; width: 97%'></div>\");\n",
    "           var list = $(\"<ul/>\"); // .appendTo(masterTabsDiv);\n",
    "           list.append(\"<li><a href='#tab-1'>cytoscape</a></li>\");\n",
    "           list.append(\"<li><a href='#tab-2'>igv</a></li>\");\n",
    "           list.append(\"<li><a href='#tab-3'>three</a></li>\");\n",
    "           masterTabsDiv.append(list);\n",
    "           var tab1 = $(\"<div id='tab-1'>contents 1</div>\");\n",
    "           tab1.append(\"<div id='cyDiv' style='border:1px solid red; height:200px;'>cyDiv coming soon</div>\"); \n",
    "           //var tab1 = this.createCytoscapeDiv();\n",
    "           var tab2 = $(\"<div id='tab-2'></div>\");\n",
    "           tab2.append(\"<div id='igvDiv' style='border:1px solid blue; height:500px;'></div>\");\n",
    "           var tab3 = $(\"<div id='tab-3'>contents 3</div>\");\n",
    "           masterTabsDiv.append(tab1);\n",
    "           masterTabsDiv.append(tab2);\n",
    "           masterTabsDiv.append(tab3);\n",
    "           return(masterTabsDiv);\n",
    "           },\n",
    "         \n",
    "\n",
    "        render: function() { \n",
    "            console.log(\"entering render\");\n",
    "            this.masterTabsDiv = this.createMasterTabsDiv();\n",
    "            this.$el.append(this.masterTabsDiv);\n",
    "            this.listenTo(this.model, 'change:frameHeight', this.frameDimensionsChanged, this);\n",
    "            //var browser = None;\n",
    "            var igvOptions = {\n",
    "                 palette: [\"#00A0B0\", \"#6A4A3C\", \"#CC333F\", \"#EB6841\"],\n",
    "                 locus: \"7:55,085,725 - 55,276,031\",\n",
    "                 reference: {id: \"hg19\",\n",
    "                   fastaURL: \"http://igv.broadinstitute.org/genomes/seq/1kg_v37/human_g1k_v37_decoy.fasta\",\n",
    "                   cytobandURL: \"http://igv.broadinstitute.org/genomes/seq/b37/b37_cytoband.txt\"\n",
    "                   },\n",
    "                 trackDefaults: {\n",
    "                    bam: {coverageThreshold: 0.2,\n",
    "                          coverageQualityWeight: true\n",
    "                         }\n",
    "                    },\n",
    "               tracks: [\n",
    "                {name: \"Genes\",\n",
    "                    url: \"http://igv.broadinstitute.org/annotations/hg19/genes/gencode.v18.collapsed.bed\",\n",
    "                    index: \"http://igv.broadinstitute.org/annotations/hg19/genes/gencode.v18.collapsed.bed.idx\",\n",
    "                    displayMode: \"EXPANDED\"\n",
    "                    }\n",
    "                 ]\n",
    "               }; // igvOptions\n",
    " \n",
    "            setTimeout(function(){\n",
    "               console.log(\"about to call tabs()\");\n",
    "               $(\"#masterTabsDiv\").tabs();\n",
    "               $(\"#cyDiv\").cytoscape({elements:{nodes:[{data:{id:'a'}}], edges:[{data:{source:'a', target:'a'}}]}});\n",
    "               window.browser = igv.createBrowser($(\"#igvDiv\"), igvOptions);\n",
    "               }, 0);\n",
    "            },\n",
    "\n",
    "           \n",
    "        frameDimensionsChanged: function(){\n",
    "           console.log(\"frameDimensionsChanged\");\n",
    "           var oldHeight = $(\"#mainDiv\").height()\n",
    "           var oldWidth = $(\"#mainDiv\").width()\n",
    "           var newHeight = this.model.get(\"frameHeight\");\n",
    "           var msg = \"<center>tabs demo, height: \" + oldHeight + \" -> \" + newHeight + \"</center>\";\n",
    "           $(\"#mainDiv\").html(msg);\n",
    "           $(\"#masterTabsDiv\").height(newHeight);\n",
    "        }, \n",
    "        \n",
    "\n",
    "    });\n",
    "    return {\n",
    "        TabsView: TabsView\n",
    "    };\n",
    "});"
   ]
  },
  {
   "cell_type": "code",
   "execution_count": 91,
   "metadata": {},
   "outputs": [
    {
     "data": {
      "application/vnd.jupyter.widget-view+json": {
       "model_id": "08bc3953eb8e4c6f981b2d17abe5066d"
      }
     },
     "metadata": {},
     "output_type": "display_data"
    }
   ],
   "source": [
    "app = TabsWidget()\n",
    "display(app)"
   ]
  },
  {
   "cell_type": "raw",
   "metadata": {},
   "source": []
  },
  {
   "cell_type": "code",
   "execution_count": 77,
   "metadata": {},
   "outputs": [
    {
     "name": "stdout",
     "output_type": "stream",
     "text": [
      "setHeight(800) \n"
     ]
    }
   ],
   "source": [
    "app.setHeight(800)\n"
   ]
  },
  {
   "cell_type": "code",
   "execution_count": null,
   "metadata": {
    "collapsed": true
   },
   "outputs": [],
   "source": []
  },
  {
   "cell_type": "code",
   "execution_count": null,
   "metadata": {
    "collapsed": true
   },
   "outputs": [],
   "source": []
  },
  {
   "cell_type": "code",
   "execution_count": null,
   "metadata": {
    "collapsed": true
   },
   "outputs": [],
   "source": []
  }
 ],
 "metadata": {
  "anaconda-cloud": {},
  "kernelspec": {
   "display_name": "Python [default]",
   "language": "python",
   "name": "python3"
  },
  "language_info": {
   "codemirror_mode": {
    "name": "ipython",
    "version": 3
   },
   "file_extension": ".py",
   "mimetype": "text/x-python",
   "name": "python",
   "nbconvert_exporter": "python",
   "pygments_lexer": "ipython3",
   "version": "3.5.2"
  },
  "widgets": {
   "state": {
    "773dd6efde564d6f86a2c1df3b1698e6": {
     "model_module": "jupyter-js-widgets",
     "model_module_version": "*",
     "model_name": "DOMWidgetModel",
     "state": {
      "_dom_classes": [],
      "_model_module": "jupyter-js-widgets",
      "_model_module_version": "*",
      "_model_name": "DOMWidgetModel",
      "_view_module": "cyjs",
      "_view_module_version": "*",
      "_view_name": "CyjsView",
      "frameHeight": 300,
      "frameWidth": 400,
      "msgFromBrowser": "{}",
      "msgFromKernel": "{}",
      "msg_throttle": 1
     }
    },
    "8f8d68c55ed749e1b47682ba9dfc7a48": {
     "model_module": "jupyter-js-widgets",
     "model_module_version": "*",
     "model_name": "DOMWidgetModel",
     "state": {
      "_dom_classes": [],
      "_model_module": "jupyter-js-widgets",
      "_model_module_version": "*",
      "_model_name": "DOMWidgetModel",
      "_view_module": "cyjs",
      "_view_module_version": "*",
      "_view_name": "CyjsView",
      "frameHeight": 300,
      "frameWidth": 400,
      "msgFromBrowser": "{}",
      "msgFromKernel": "{}",
      "msg_throttle": 1
     }
    }
   },
   "version": "2.0.10"
  }
 },
 "nbformat": 4,
 "nbformat_minor": 1
}
