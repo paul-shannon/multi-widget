{
 "cells": [
  {
   "cell_type": "code",
   "execution_count": 25,
   "metadata": {},
   "outputs": [
    {
     "data": {
      "application/javascript": [
       "require.config({\n",
       "   'shim': {'bootstrap': {'deps' :['jquery']},\n",
       "            'igv': {'deps' :['jquery', 'jquery-ui', 'bootstrap']}\n",
       "           },\n",
       "    \n",
       "   paths: {cytoscape  : 'http://localhost:8099/js/cytoscape-2.7.10',\n",
       "           demo       : 'http://localhost:10001/demo',\n",
       "          'jquery'    :   'http://code.jquery.com/jquery-1.12.4.min',\n",
       "          'jquery-ui' :   'http://code.jquery.com/ui/1.12.1/jquery-ui.min',\n",
       "          'bootstrap' :   'http://maxcdn.bootstrapcdn.com/bootstrap/3.3.7/js/bootstrap.min',\n",
       "          'igv'       :   'http://igv.org/web/release/1.0.6/igv-1.0.6'\n",
       "          }\n",
       "   })"
      ],
      "text/plain": [
       "<IPython.core.display.Javascript object>"
      ]
     },
     "metadata": {},
     "output_type": "display_data"
    }
   ],
   "source": [
    "%%javascript\n",
    "require.config({\n",
    "   'shim': {'bootstrap': {'deps' :['jquery']},\n",
    "            'igv': {'deps' :['jquery', 'jquery-ui', 'bootstrap']}\n",
    "           },\n",
    "    \n",
    "   paths: {cytoscape  : 'http://localhost:8099/js/cytoscape-2.7.10',\n",
    "           demo       : 'http://localhost:10001/demo',\n",
    "          'jquery'    :   'http://code.jquery.com/jquery-1.12.4.min',\n",
    "          'jquery-ui' :   'http://code.jquery.com/ui/1.12.1/jquery-ui.min',\n",
    "          'bootstrap' :   'http://maxcdn.bootstrapcdn.com/bootstrap/3.3.7/js/bootstrap.min',\n",
    "          'igv'       :   'http://igv.org/web/release/1.0.6/igv-1.0.6'\n",
    "          }\n",
    "   })"
   ]
  },
  {
   "cell_type": "code",
   "execution_count": 26,
   "metadata": {},
   "outputs": [],
   "source": [
    "# ensure libraries are available\n",
    "import requests\n",
    "assert(requests.get('http://localhost:8099/js/cytoscape-2.7.10.js').status_code == 200)\n",
    "#assert(requests.get('http://localhost:10001/demo.js').status_code == 200)\n",
    "#assert(requests.get('https://igv.org/web/beta/igv-beta.min.js').status_code == 200)"
   ]
  },
  {
   "cell_type": "code",
   "execution_count": 27,
   "metadata": {
    "collapsed": true
   },
   "outputs": [],
   "source": [
    "import ipywidgets as widgets\n",
    "import time\n",
    "from IPython.display import display, HTML\n",
    "from traitlets import Int, Unicode, observe"
   ]
  },
  {
   "cell_type": "code",
   "execution_count": 28,
   "metadata": {
    "collapsed": true
   },
   "outputs": [],
   "source": [
    "class TabsWidget(widgets.DOMWidget):\n",
    "    \n",
    "    _view_name = Unicode('TabsView').tag(sync=True)\n",
    "    _view_module = Unicode('tabsDemo').tag(sync=True)\n",
    "    frameHeight = Int(300).tag(sync=True)\n",
    "\n",
    "    def setHeight(self, height):\n",
    "       print(\"setHeight(%d) \"% height)\n",
    "       self.frameHeight = height\n",
    "    "
   ]
  },
  {
   "cell_type": "code",
   "execution_count": 29,
   "metadata": {},
   "outputs": [
    {
     "data": {
      "text/html": [
       "\n",
       "<style>\n",
       "    div#notebook-container    { width: 97%; }\n",
       "    div#menubar-container     { width: 65%; }\n",
       "    div#maintoolbar-container { width: 99%; }\n",
       "</style>\n"
      ],
      "text/plain": [
       "<IPython.core.display.HTML object>"
      ]
     },
     "metadata": {},
     "output_type": "display_data"
    }
   ],
   "source": [
    "display(HTML(data=\"\"\"\n",
    "<style>\n",
    "    div#notebook-container    { width: 97%; }\n",
    "    div#menubar-container     { width: 65%; }\n",
    "    div#maintoolbar-container { width: 99%; }\n",
    "</style>\n",
    "\"\"\"))"
   ]
  },
  {
   "cell_type": "code",
   "execution_count": 30,
   "metadata": {},
   "outputs": [
    {
     "data": {
      "application/javascript": [
       "\"use strict\";\n",
       "\n",
       "require.undef('tabsDemo')\n",
       "\n",
       "define('tabsDemo', [\"jupyter-js-widgets\", \"cytoscape\", \"jquery\", \"igv\"], \n",
       "       function(widgets, cytoscape, $, igv) {\n",
       "    \n",
       "    var TabsView = widgets.DOMWidgetView.extend({\n",
       "\n",
       "        initialize: function() {\n",
       "           this.options = {}\n",
       "           console.log(\"constructing TabsView\");\n",
       "           this.frameHeight = \"800px\";\n",
       "           //console.log(demo);\n",
       "           },\n",
       "\n",
       "        resizeHandler: function(){\n",
       "           console.log(\"TabsView resizeHandler\")            \n",
       "           },\n",
       "\n",
       "       createCytoscapeDiv: function(){\n",
       "          var cyDiv = $(\"<div id='cyDiv' style='border:1px solid red; height:200px;'></div>\");\n",
       "          cyDiv.cytoscape({\n",
       "            ready: function(){\n",
       "               x = this;\n",
       "               console.log(\"cyJS ready\");\n",
       "               },\n",
       "            elements: {\n",
       "              nodes: [\n",
       "                {data: {id: 'a', name: 'Node A', type: 'big' }},\n",
       "                {data: {id: 'b', name: 'Node B', type: 'little'}},\n",
       "                ]}\n",
       "            });\n",
       "          return(cyDiv);\n",
       "          }, // createCytoscapeDiv\n",
       "        \n",
       "        createMasterTabsDiv: function(){\n",
       "           var masterTabsDiv = $(\"<div id='masterTabsDiv' style='border:1px solid gray; height: 400px; width: 97%'></div>\");\n",
       "           var list = $(\"<ul/>\"); // .appendTo(masterTabsDiv);\n",
       "           list.append(\"<li><a href='#tab-1'>one</a></li>\");\n",
       "           list.append(\"<li><a href='#tab-2'>two</a></li>\");\n",
       "           list.append(\"<li><a href='#tab-3'>three</a></li>\");\n",
       "           masterTabsDiv.append(list);\n",
       "           var tab1 = $(\"<div id='tab-1'>contents 1</div>\");\n",
       "           tab1.append(\"<div id='cyDiv' style='border:1px solid red; height:200px;'>cyDiv coming soon</div>\"); \n",
       "           //var tab1 = this.createCytoscapeDiv();\n",
       "           var tab2 = $(\"<div id='tab-2'>contents 2</div>\");\n",
       "           var tab3 = $(\"<div id='tab-3'>contents 3</div>\");\n",
       "           masterTabsDiv.append(tab1);\n",
       "           masterTabsDiv.append(tab2);\n",
       "           masterTabsDiv.append(tab3);\n",
       "           return(masterTabsDiv);\n",
       "           },\n",
       "         \n",
       "\n",
       "        render: function() { \n",
       "            console.log(\"entering render\");\n",
       "            this.masterTabsDiv = this.createMasterTabsDiv();\n",
       "            this.$el.append(this.masterTabsDiv);\n",
       "            this.listenTo(this.model, 'change:frameHeight', this.frameDimensionsChanged, this);\n",
       "            setTimeout(function(){\n",
       "               console.log(\"about to call tabs()\");\n",
       "               $(\"#masterTabsDiv\").tabs();\n",
       "               $(\"#cyDiv\").cytoscape({elements:{nodes:[{data:{id:'a'}}], edges:[{data:{source:'a', target:'a'}}]}})\n",
       "               }, 0);\n",
       "            },\n",
       "\n",
       "           \n",
       "        frameDimensionsChanged: function(){\n",
       "           console.log(\"frameDimensionsChanged\");\n",
       "           var oldHeight = $(\"#mainDiv\").height()\n",
       "           var oldWidth = $(\"#mainDiv\").width()\n",
       "           var newHeight = this.model.get(\"frameHeight\");\n",
       "           var msg = \"<center>tabs demo, height: \" + oldHeight + \" -> \" + newHeight + \"</center>\";\n",
       "           $(\"#mainDiv\").html(msg);\n",
       "           $(\"#masterTabsDiv\").height(newHeight);\n",
       "        }, \n",
       "        \n",
       "\n",
       "    });\n",
       "    return {\n",
       "        TabsView: TabsView\n",
       "    };\n",
       "});"
      ],
      "text/plain": [
       "<IPython.core.display.Javascript object>"
      ]
     },
     "metadata": {},
     "output_type": "display_data"
    }
   ],
   "source": [
    "%%javascript\n",
    "\"use strict\";\n",
    "\n",
    "require.undef('tabsDemo')\n",
    "\n",
    "define('tabsDemo', [\"jupyter-js-widgets\", \"cytoscape\", \"jquery\", \"igv\"], \n",
    "       function(widgets, cytoscape, $, igv) {\n",
    "    \n",
    "    var TabsView = widgets.DOMWidgetView.extend({\n",
    "\n",
    "        initialize: function() {\n",
    "           this.options = {}\n",
    "           console.log(\"constructing TabsView\");\n",
    "           this.frameHeight = \"800px\";\n",
    "           //console.log(demo);\n",
    "           },\n",
    "\n",
    "        resizeHandler: function(){\n",
    "           console.log(\"TabsView resizeHandler\")            \n",
    "           },\n",
    "\n",
    "       createCytoscapeDiv: function(){\n",
    "          var cyDiv = $(\"<div id='cyDiv' style='border:1px solid red; height:200px;'></div>\");\n",
    "          cyDiv.cytoscape({\n",
    "            ready: function(){\n",
    "               x = this;\n",
    "               console.log(\"cyJS ready\");\n",
    "               },\n",
    "            elements: {\n",
    "              nodes: [\n",
    "                {data: {id: 'a', name: 'Node A', type: 'big' }},\n",
    "                {data: {id: 'b', name: 'Node B', type: 'little'}},\n",
    "                ]}\n",
    "            });\n",
    "          return(cyDiv);\n",
    "          }, // createCytoscapeDiv\n",
    "        \n",
    "        createMasterTabsDiv: function(){\n",
    "           var masterTabsDiv = $(\"<div id='masterTabsDiv' style='border:1px solid gray; height: 400px; width: 97%'></div>\");\n",
    "           var list = $(\"<ul/>\"); // .appendTo(masterTabsDiv);\n",
    "           list.append(\"<li><a href='#tab-1'>one</a></li>\");\n",
    "           list.append(\"<li><a href='#tab-2'>two</a></li>\");\n",
    "           list.append(\"<li><a href='#tab-3'>three</a></li>\");\n",
    "           masterTabsDiv.append(list);\n",
    "           var tab1 = $(\"<div id='tab-1'>contents 1</div>\");\n",
    "           tab1.append(\"<div id='cyDiv' style='border:1px solid red; height:200px;'>cyDiv coming soon</div>\"); \n",
    "           //var tab1 = this.createCytoscapeDiv();\n",
    "           var tab2 = $(\"<div id='tab-2'>contents 2</div>\");\n",
    "           var tab3 = $(\"<div id='tab-3'>contents 3</div>\");\n",
    "           masterTabsDiv.append(tab1);\n",
    "           masterTabsDiv.append(tab2);\n",
    "           masterTabsDiv.append(tab3);\n",
    "           return(masterTabsDiv);\n",
    "           },\n",
    "         \n",
    "\n",
    "        render: function() { \n",
    "            console.log(\"entering render\");\n",
    "            this.masterTabsDiv = this.createMasterTabsDiv();\n",
    "            this.$el.append(this.masterTabsDiv);\n",
    "            this.listenTo(this.model, 'change:frameHeight', this.frameDimensionsChanged, this);\n",
    "            setTimeout(function(){\n",
    "               console.log(\"about to call tabs()\");\n",
    "               $(\"#masterTabsDiv\").tabs();\n",
    "               $(\"#cyDiv\").cytoscape({elements:{nodes:[{data:{id:'a'}}], edges:[{data:{source:'a', target:'a'}}]}})\n",
    "               }, 0);\n",
    "            },\n",
    "\n",
    "           \n",
    "        frameDimensionsChanged: function(){\n",
    "           console.log(\"frameDimensionsChanged\");\n",
    "           var oldHeight = $(\"#mainDiv\").height()\n",
    "           var oldWidth = $(\"#mainDiv\").width()\n",
    "           var newHeight = this.model.get(\"frameHeight\");\n",
    "           var msg = \"<center>tabs demo, height: \" + oldHeight + \" -> \" + newHeight + \"</center>\";\n",
    "           $(\"#mainDiv\").html(msg);\n",
    "           $(\"#masterTabsDiv\").height(newHeight);\n",
    "        }, \n",
    "        \n",
    "\n",
    "    });\n",
    "    return {\n",
    "        TabsView: TabsView\n",
    "    };\n",
    "});"
   ]
  },
  {
   "cell_type": "code",
   "execution_count": 31,
   "metadata": {},
   "outputs": [
    {
     "data": {
      "application/vnd.jupyter.widget-view+json": {
       "model_id": "4ab8c13aa4cd4dcdbb2ae05954a1b0b0"
      }
     },
     "metadata": {},
     "output_type": "display_data"
    }
   ],
   "source": [
    "app = TabsWidget()\n",
    "display(app)"
   ]
  },
  {
   "cell_type": "code",
   "execution_count": 10,
   "metadata": {},
   "outputs": [
    {
     "name": "stdout",
     "output_type": "stream",
     "text": [
      "setHeight(400) \n"
     ]
    }
   ],
   "source": [
    "app.setHeight(400)\n"
   ]
  },
  {
   "cell_type": "code",
   "execution_count": null,
   "metadata": {
    "collapsed": true
   },
   "outputs": [],
   "source": []
  }
 ],
 "metadata": {
  "anaconda-cloud": {},
  "kernelspec": {
   "display_name": "Python [default]",
   "language": "python",
   "name": "python3"
  },
  "language_info": {
   "codemirror_mode": {
    "name": "ipython",
    "version": 3
   },
   "file_extension": ".py",
   "mimetype": "text/x-python",
   "name": "python",
   "nbconvert_exporter": "python",
   "pygments_lexer": "ipython3",
   "version": "3.5.2"
  },
  "widgets": {
   "state": {
    "773dd6efde564d6f86a2c1df3b1698e6": {
     "model_module": "jupyter-js-widgets",
     "model_module_version": "*",
     "model_name": "DOMWidgetModel",
     "state": {
      "_dom_classes": [],
      "_model_module": "jupyter-js-widgets",
      "_model_module_version": "*",
      "_model_name": "DOMWidgetModel",
      "_view_module": "cyjs",
      "_view_module_version": "*",
      "_view_name": "CyjsView",
      "frameHeight": 300,
      "frameWidth": 400,
      "msgFromBrowser": "{}",
      "msgFromKernel": "{}",
      "msg_throttle": 1
     }
    },
    "8f8d68c55ed749e1b47682ba9dfc7a48": {
     "model_module": "jupyter-js-widgets",
     "model_module_version": "*",
     "model_name": "DOMWidgetModel",
     "state": {
      "_dom_classes": [],
      "_model_module": "jupyter-js-widgets",
      "_model_module_version": "*",
      "_model_name": "DOMWidgetModel",
      "_view_module": "cyjs",
      "_view_module_version": "*",
      "_view_name": "CyjsView",
      "frameHeight": 300,
      "frameWidth": 400,
      "msgFromBrowser": "{}",
      "msgFromKernel": "{}",
      "msg_throttle": 1
     }
    }
   },
   "version": "2.0.10"
  }
 },
 "nbformat": 4,
 "nbformat_minor": 1
}
